{
 "cells": [
  {
   "cell_type": "markdown",
   "id": "33fdfc56-8005-41d0-930f-9b641d55e283",
   "metadata": {},
   "source": [
    "# Spatial Disorder Framework Manipulation\n",
    "This notebook will walk you through the basic functionality of SDFM. Afterwards, you will know how to analyse and deconstruct frameworks into discrete building blocks, manipulate topological components and make reasonable molecular fragments.\n",
    "\n",
    "**Disclaimer** This package is not thoroughly tested. Feel free to play around and discover bugs. It just works (sometimes) - Todd Howard. "
   ]
  },
  {
   "cell_type": "code",
   "execution_count": 1,
   "id": "397f96e6-96d8-40da-9464-b1307b04b437",
   "metadata": {},
   "outputs": [],
   "source": [
    "# some imports\n",
    "from pathlib import Path\n",
    "\n",
    "import ase\n",
    "import ase.io\n",
    "import ase.visualize\n",
    "\n",
    "from sdfm.template import AtomsTemplate, graph_from_atoms\n",
    "from sdfm.modify import ExtendedAtomsTemplate, StandaloneBuildingBlock\n",
    "from sdfm.selection import AtomSelection, SelectByElement, SelectByChance, SelectByAdjacency, SelectByConnectivity, SelectByIndex, ReduceToComponent\n",
    "from sdfm.gui import visualise_template_blocks, visualise_selection\n",
    "\n",
    "root = Path.cwd()"
   ]
  },
  {
   "cell_type": "markdown",
   "id": "b219c107-2ca2-470d-a9fc-2e8d1f291055",
   "metadata": {},
   "source": [
    "Let's start by reading and inspecting a basic MOF structure: the prototypical UiO-66(Zr) framework. We will use the conventional 456-atom unit cell, containing 4 bricks and 24 linkers. "
   ]
  },
  {
   "cell_type": "code",
   "execution_count": 2,
   "id": "608e66b5-036c-404f-841a-6b92d99add86",
   "metadata": {},
   "outputs": [
    {
     "data": {
      "text/plain": [
       "<Popen: returncode: None args: ['/home/pieter/micromamba/envs/psiflow_dev/bi...>"
      ]
     },
     "execution_count": 2,
     "metadata": {},
     "output_type": "execute_result"
    }
   ],
   "source": [
    "file = root / 'data' / 'uio66_unit.xyz'\n",
    "atoms = ase.io.read(file)\n",
    "ase.visualize.view(atoms)"
   ]
  },
  {
   "cell_type": "markdown",
   "id": "afa06c38-6c65-4690-b3ce-2320d185392d",
   "metadata": {},
   "source": [
    "## The `AtomsTemplate` class"
   ]
  },
  {
   "cell_type": "markdown",
   "id": "8ddcf853-6066-40b2-bb69-1f4e0b374368",
   "metadata": {},
   "source": [
    "This package is built around the `AtomsTemplate` class, which wraps an `ase.Atoms` object and defines most functionality. It will create a topological network of atomic bonds and 'guess' a building block structure for the given system. To get the topology correct, it is important to start from a reasonable, relaxed initial structure. Spend some time to inspect the `AtomsTemplate` object and look at its attributes, properties and methods. This can be in the source code, but is probably easier in the variable inspector of a debugger that comes standard in most popular IDEs (VSCode, Pycharm)"
   ]
  },
  {
   "cell_type": "code",
   "execution_count": 3,
   "id": "b0fdbde3-ca54-4b81-b25b-5724c3767ab4",
   "metadata": {},
   "outputs": [
    {
     "name": "stdout",
     "output_type": "stream",
     "text": [
      "Inside AtomsTemplate: ['atoms', 'block_ids', 'block_labels', 'blocks', 'bonds', 'bonds_cg', 'cell', 'connections', 'graph', 'graph_cg', 'init', 'labels', 'labels_to_ids', 'make_supercell', 'merge_blocks', 'name', 'pbc', 'pos']\n"
     ]
    }
   ],
   "source": [
    "template = AtomsTemplate(atoms)  # stores a copy of atoms\n",
    "print('Inside AtomsTemplate:', [_ for _ in dir(template) if not _.startswith('_')])\n",
    "visualise_template_blocks(template)"
   ]
  },
  {
   "cell_type": "markdown",
   "id": "ba793c3f-0fb1-4d7a-8f1a-f82d49d2d737",
   "metadata": {},
   "source": [
    "The original atoms object is broken down into 4 bricks, 24 linkers and 96 loose H atoms on all benzene rings. This decision is made in the `graph_from_atoms` function, called upon `AtomsTemplate` initialisation. It works out of the box for 'simple' MOFs like UiO-66, but is in no means general for framework materials. You can always implement a custom `graph_from_atoms` for your specific use case."
   ]
  },
  {
   "cell_type": "code",
   "execution_count": 4,
   "id": "f50e4dbe-6d8e-4411-8637-c2aef0dfdeb5",
   "metadata": {},
   "outputs": [
    {
     "ename": "AssertionError",
     "evalue": "",
     "output_type": "error",
     "traceback": [
      "\u001b[0;31m---------------------------------------------------------------------------\u001b[0m",
      "\u001b[0;31mAssertionError\u001b[0m                            Traceback (most recent call last)",
      "Cell \u001b[0;32mIn[4], line 8\u001b[0m\n\u001b[1;32m      5\u001b[0m visualise_template_blocks(template_manual)\n\u001b[1;32m      7\u001b[0m \u001b[38;5;66;03m# both templates are functionally equivalent, but not the same\u001b[39;00m\n\u001b[0;32m----> 8\u001b[0m \u001b[38;5;28;01massert\u001b[39;00m template \u001b[38;5;241m==\u001b[39m template_manual\n",
      "\u001b[0;31mAssertionError\u001b[0m: "
     ]
    }
   ],
   "source": [
    "# initialise the AtomsTemplate using an external atomic graph\n",
    "atoms_manual = atoms.copy()\n",
    "graph_manual = graph_from_atoms(atoms_manual)\n",
    "template_manual = AtomsTemplate(atoms_manual, graph=graph_manual)\n",
    "visualise_template_blocks(template_manual)\n",
    "\n",
    "# both templates are functionally equivalent, but not the same\n",
    "assert template == template_manual"
   ]
  },
  {
   "cell_type": "markdown",
   "id": "d41c45ed-7081-4224-887c-6b56147a1624",
   "metadata": {},
   "source": [
    "The default `graph_from_atoms` breaks down our framework into the 'smallest' chemically sound units. This behaviour is useful if we are interested in linker functionalisation (e.g., replacing a dangling -H with -NH<sub>2</sub>) but might not be desirable in general. You can merge building blocks by size to restore the original benzene ring."
   ]
  },
  {
   "cell_type": "code",
   "execution_count": 5,
   "id": "0c4acfc3-be19-4f2a-bd0b-1be11d2c5e29",
   "metadata": {},
   "outputs": [
    {
     "name": "stdout",
     "output_type": "stream",
     "text": [
      "# of building blocks before: 124\n",
      "# of building blocks after: 28\n"
     ]
    }
   ],
   "source": [
    "# combine every isolated block with less than 2 atoms with its smallest neighbouring block\n",
    "print('# of building blocks before:', len(template.blocks))\n",
    "template.merge_blocks(min_size=2)\n",
    "print('# of building blocks after:', len(template.blocks))\n",
    "visualise_template_blocks(template)"
   ]
  },
  {
   "cell_type": "markdown",
   "id": "067938cc-b6e2-458d-bcc5-44819d32c752",
   "metadata": {},
   "source": [
    "Working in the conventional unit cell is instructive, but practical applications will need larger supercells to accomodate spatial disorder. You can scale up an `AtomsTemplate` using its `make_supercell` method."
   ]
  },
  {
   "cell_type": "code",
   "execution_count": 6,
   "id": "a0f3d336-16b5-4455-b969-a3c8b380a5df",
   "metadata": {},
   "outputs": [],
   "source": [
    "template_super = template.make_supercell(2, 2, 2)\n",
    "visualise_template_blocks(template_super)"
   ]
  },
  {
   "cell_type": "markdown",
   "id": "184cbe92-59ef-4afb-b359-e28305bd0e02",
   "metadata": {},
   "source": [
    "Note that creating an `AtomsTemplate` is computationally costly for large structures. We need to generate a neighbourlist, analyse the topology and break down the system into building blocks. This scales poorly with system size. It is **much** more efficient to create the template from a small system and scale it up afterwards."
   ]
  },
  {
   "cell_type": "code",
   "execution_count": null,
   "id": "610781b8-2038-4aae-a28b-bae7cf18bcf3",
   "metadata": {},
   "outputs": [],
   "source": [
    "%%timeit\n",
    "# make a template from the unit cell and scale it up\n",
    "template = AtomsTemplate(atoms)\n",
    "template.make_supercell(4, 4, 4)"
   ]
  },
  {
   "cell_type": "code",
   "execution_count": null,
   "id": "5fb52a1a-2a70-4603-83d4-2dc379fb0c5f",
   "metadata": {},
   "outputs": [],
   "source": [
    "%%timeit\n",
    "# make a template from a supercell\n",
    "atoms_super = atoms.repeat(4)\n",
    "AtomsTemplate(atoms_super)"
   ]
  },
  {
   "cell_type": "markdown",
   "id": "5a22c874-891f-4f3b-b1b4-9d14e5ba6437",
   "metadata": {},
   "source": [
    "## The `ExtendedAtomsTemplate` class"
   ]
  },
  {
   "cell_type": "markdown",
   "id": "23ae55ff-db09-4338-ba46-123af7772d8a",
   "metadata": {},
   "source": [
    "To start modifying structures - create linker defects, swap metal ions etc. - we need the `ExtendedAtomsTemplate` class. Have a look at its additional methods; most of them should be quite self-explanatory."
   ]
  },
  {
   "cell_type": "code",
   "execution_count": 7,
   "id": "ba29c8c3-90cf-4068-9611-a4b81c4daaa0",
   "metadata": {},
   "outputs": [
    {
     "name": "stdout",
     "output_type": "stream",
     "text": [
      "Inside ExtendedAtomsTemplate: ['atoms', 'block_ids', 'block_labels', 'blocks', 'bonds', 'bonds_cg', 'cell', 'connections', 'copy', 'dangling_bonds', 'get_atoms', 'ghost_atoms', 'graph', 'graph_cg', 'init', 'insert_block', 'labels', 'labels_to_ids', 'make_supercell', 'merge_blocks', 'name', 'pbc', 'pos', 'remove_blocks', 'rotate_blocks', 'swap_blocks', 'termination']\n"
     ]
    }
   ],
   "source": [
    "template = ExtendedAtomsTemplate(atoms)\n",
    "template.merge_blocks(2)\n",
    "print('Inside ExtendedAtomsTemplate:', [_ for _ in dir(template) if not _.startswith('_')])"
   ]
  },
  {
   "cell_type": "markdown",
   "id": "2e7df458-4b29-4a78-84e5-67f4fce66f4e",
   "metadata": {},
   "source": [
    "Let's start with a simple example: removing a single linker. The building blocks of a template are stored under the `blocks` attribute in order of descending size, meaning the first four are bricks. "
   ]
  },
  {
   "cell_type": "code",
   "execution_count": 8,
   "id": "190fd327-51a5-4689-9990-95835fe8fd03",
   "metadata": {},
   "outputs": [
    {
     "name": "stdout",
     "output_type": "stream",
     "text": [
      "BuildingBlock(H4C12O32Zr6, pos: [10.44, 10.44, 10.44], connections: 12)\n",
      "BuildingBlock(H4C6, pos: [15.65, 5.22, 10.17], connections: 2)\n"
     ]
    },
    {
     "data": {
      "text/plain": [
       "<Popen: returncode: None args: ['/home/pieter/micromamba/envs/psiflow_dev/bi...>"
      ]
     },
     "execution_count": 8,
     "metadata": {},
     "output_type": "execute_result"
    }
   ],
   "source": [
    "# blocks are BuildingBlock instances tied to a template\n",
    "print(template.blocks[0], template.blocks[20], sep='\\n')\n",
    "\n",
    "# pass an iterable with the indices of blocks you want to remove\n",
    "template.remove_blocks([20])\n",
    "atoms_disordered = template.get_atoms(ghost_atoms=True, wrap=True)\n",
    "ase.visualize.view(atoms_disordered)"
   ]
  },
  {
   "cell_type": "markdown",
   "id": "8b42841e-9d33-4343-9f08-e72d6df770be",
   "metadata": {},
   "source": [
    "Notice how the structure contains 2 dummy atoms with element 'X' where the linker was removed. These `ghost_atoms` represent unsaturated, dangling bonds that can be terminated to end up with a closed-shell neutral system. The default termination is simple -H caps, creating formate groups in UiO-66. Note that capping groups are simply placed at a reasonable bond distance. For further applications, it is a good idea to relax the atomic structure."
   ]
  },
  {
   "cell_type": "code",
   "execution_count": 9,
   "id": "a75d7404-074b-4fdc-94e9-57ef74cc7728",
   "metadata": {},
   "outputs": [
    {
     "data": {
      "text/plain": [
       "<Popen: returncode: None args: ['/home/pieter/micromamba/envs/psiflow_dev/bi...>"
      ]
     },
     "execution_count": 9,
     "metadata": {},
     "output_type": "execute_result"
    }
   ],
   "source": [
    "atoms_disordered = template.get_atoms(termination=True, wrap=True)\n",
    "ase.visualize.view(atoms_disordered)"
   ]
  },
  {
   "cell_type": "markdown",
   "id": "e2a52b5b-75d7-4a6a-aefa-da8c62fb4911",
   "metadata": {},
   "source": [
    "We can reinsert blocks into framework vacancies too. For this, we need a `StandaloneBuildingBlock` instance, which is not connected to any template. It is very easy to convert an existing `BuildingBlock`. Here, we start from a -NH<sub>2</sub> functionalised framework to contrast with the regular BDC linkers in UiO-66."
   ]
  },
  {
   "cell_type": "code",
   "execution_count": 10,
   "id": "daaa3859-95e9-4a5f-9fe1-24c84aab957e",
   "metadata": {},
   "outputs": [
    {
     "data": {
      "text/plain": [
       "<Popen: returncode: None args: ['/home/pieter/micromamba/envs/psiflow_dev/bi...>"
      ]
     },
     "execution_count": 10,
     "metadata": {},
     "output_type": "execute_result"
    },
    {
     "name": "stderr",
     "output_type": "stream",
     "text": [
      "/home/pieter/micromamba/envs/psiflow_dev/lib/python3.10/site-packages/ase/gui/images.py:99: UserWarning: Not all images have the same boundary conditions!\n",
      "  warnings.warn('Not all images have the same boundary conditions!')\n"
     ]
    }
   ],
   "source": [
    "# create a StandaloneBuildingBlock from a BuildingBlock\n",
    "file = root / 'data' / 'uio66nh2_unit.xyz'\n",
    "atoms_nh2 = ase.io.read(file)\n",
    "template_nh2 = AtomsTemplate(atoms_nh2)\n",
    "template_nh2.merge_blocks(4)\n",
    "block_bdc_nh2 = StandaloneBuildingBlock.from_block(template_nh2.blocks[4])\n",
    "ase.visualize.view([atoms_nh2, block_bdc_nh2.get_atoms(ghost_atoms=True)])"
   ]
  },
  {
   "cell_type": "markdown",
   "id": "cc780e23-8427-4e6f-9a91-7c1d448de1b2",
   "metadata": {},
   "source": [
    "To fill the linker vacancy in our original template, we need to specify which dangling bonds should be reconnected by the new building block. The `insert_block` method will then try to fit the block inside our template topology."
   ]
  },
  {
   "cell_type": "code",
   "execution_count": 11,
   "id": "3c9af7b0-f845-45f7-9948-8838c8e27f8c",
   "metadata": {},
   "outputs": [
    {
     "name": "stdout",
     "output_type": "stream",
     "text": [
      "{DanglingBond(labels=(248, 288), ids=(248, 288), pos=array([[13.60861488,  7.26443514, 10.31028601],\n",
      "       [14.66272261,  6.20987392, 10.20640863]])), DanglingBond(labels=(245, 301), ids=(245, 301), pos=array([[17.69682524,  3.17523344, 10.31056884],\n",
      "       [16.64245499,  4.22940445, 10.20633432]]))}\n"
     ]
    },
    {
     "data": {
      "text/plain": [
       "<Popen: returncode: None args: ['/home/pieter/micromamba/envs/psiflow_dev/bi...>"
      ]
     },
     "execution_count": 11,
     "metadata": {},
     "output_type": "execute_result"
    }
   ],
   "source": [
    "# the template currently only has one linker vacancy, so 2 dangling bonds\n",
    "dangling_bonds = template.dangling_bonds\n",
    "print(dangling_bonds)\n",
    "\n",
    "template.insert_block(block_bdc_nh2, dangling_bonds)\n",
    "atoms_disordered = template.get_atoms(wrap=True)\n",
    "ase.visualize.view(atoms_disordered)"
   ]
  },
  {
   "cell_type": "markdown",
   "id": "4f9edf16-fe7d-445b-b942-97596f8774d1",
   "metadata": {},
   "source": [
    "Manually selecting every `DanglingBond` pair (or e.g., triplet for tritopic linkers) can be tedious, especially for larger structures with many vacancies. You can replace blocks with the `swap_blocks` method, which combines a `remove_blocks` with several `insert_block` calls. Make sure that building block dimensions match approximately, or weird things will happen."
   ]
  },
  {
   "cell_type": "code",
   "execution_count": 12,
   "id": "498664ae-eb99-4976-bd39-2fa32ed388be",
   "metadata": {},
   "outputs": [
    {
     "data": {
      "text/plain": [
       "<Popen: returncode: None args: ['/home/pieter/micromamba/envs/psiflow_dev/bi...>"
      ]
     },
     "execution_count": 12,
     "metadata": {},
     "output_type": "execute_result"
    }
   ],
   "source": [
    "# replace multiple BDC linkers with the BDC-NH2 variant\n",
    "# note that this operation changes the order of blocks in the template\n",
    "template.swap_blocks([4, 8, 12], block_bdc_nh2)\n",
    "atoms_disordered = template.get_atoms(wrap=True)\n",
    "ase.visualize.view(atoms_disordered)"
   ]
  },
  {
   "cell_type": "code",
   "execution_count": 14,
   "id": "d12ffaa2-9872-4ab0-8b33-da3384aee384",
   "metadata": {},
   "outputs": [
    {
     "ename": "AssertionError",
     "evalue": "",
     "output_type": "error",
     "traceback": [
      "\u001b[0;31m---------------------------------------------------------------------------\u001b[0m",
      "\u001b[0;31mAssertionError\u001b[0m                            Traceback (most recent call last)",
      "Cell \u001b[0;32mIn[14], line 3\u001b[0m\n\u001b[1;32m      1\u001b[0m \u001b[38;5;66;03m# the old an new blocks need to match topologically\u001b[39;00m\n\u001b[1;32m      2\u001b[0m \u001b[38;5;66;03m# you cannot swap a 12-connected brick for a 2-connected linker\u001b[39;00m\n\u001b[0;32m----> 3\u001b[0m \u001b[43mtemplate\u001b[49m\u001b[38;5;241;43m.\u001b[39;49m\u001b[43mswap_blocks\u001b[49m\u001b[43m(\u001b[49m\u001b[43m[\u001b[49m\u001b[38;5;241;43m0\u001b[39;49m\u001b[43m]\u001b[49m\u001b[43m,\u001b[49m\u001b[43m \u001b[49m\u001b[43mblock_bdc_nh2\u001b[49m\u001b[43m)\u001b[49m\n",
      "File \u001b[0;32m~/PycharmProjects/Research/code/sdfm/sdfm/modify.py:170\u001b[0m, in \u001b[0;36mExtendedAtomsTemplate.swap_blocks\u001b[0;34m(self, block_ids, new_block)\u001b[0m\n\u001b[1;32m    168\u001b[0m \u001b[38;5;250m\u001b[39m\u001b[38;5;124;03m\"\"\"Change out specified blocks with new block\"\"\"\u001b[39;00m\n\u001b[1;32m    169\u001b[0m blocks \u001b[38;5;241m=\u001b[39m [\u001b[38;5;28mself\u001b[39m\u001b[38;5;241m.\u001b[39mblocks[i] \u001b[38;5;28;01mfor\u001b[39;00m i \u001b[38;5;129;01min\u001b[39;00m block_ids]\n\u001b[0;32m--> 170\u001b[0m \u001b[38;5;28;01massert\u001b[39;00m \u001b[38;5;28mall\u001b[39m(block\u001b[38;5;241m.\u001b[39mconnections \u001b[38;5;241m==\u001b[39m new_block\u001b[38;5;241m.\u001b[39mconnections \u001b[38;5;28;01mfor\u001b[39;00m block \u001b[38;5;129;01min\u001b[39;00m blocks)\n\u001b[1;32m    171\u001b[0m dangling_bonds_list \u001b[38;5;241m=\u001b[39m [DanglingBond\u001b[38;5;241m.\u001b[39mfrom_block(b, invert\u001b[38;5;241m=\u001b[39m\u001b[38;5;28;01mTrue\u001b[39;00m) \u001b[38;5;28;01mfor\u001b[39;00m b \u001b[38;5;129;01min\u001b[39;00m blocks]\n\u001b[1;32m    172\u001b[0m \u001b[38;5;28mself\u001b[39m\u001b[38;5;241m.\u001b[39mremove_blocks(block_ids)\n",
      "\u001b[0;31mAssertionError\u001b[0m: "
     ]
    }
   ],
   "source": [
    "# the old an new blocks need to match topologically\n",
    "# you cannot swap a 12-connected brick for a 2-connected linker\n",
    "template.swap_blocks([0], block_bdc_nh2)"
   ]
  },
  {
   "cell_type": "markdown",
   "id": "773c31b3-816c-4324-8b49-7460fb4c44e8",
   "metadata": {},
   "source": [
    "For asymmetric ditopic linkers, orientation can be an important degree of freedom. You can rotate blocks around their axis using the `rotate_blocks` nethod."
   ]
  },
  {
   "cell_type": "code",
   "execution_count": 15,
   "id": "be38f946-2667-48df-8d76-fa2245198e4e",
   "metadata": {},
   "outputs": [
    {
     "data": {
      "text/plain": [
       "<Popen: returncode: None args: ['/home/pieter/micromamba/envs/psiflow_dev/bi...>"
      ]
     },
     "execution_count": 15,
     "metadata": {},
     "output_type": "execute_result"
    }
   ],
   "source": [
    "# rotate 3 linkers by 90 degrees\n",
    "template.rotate_blocks([4, 5, 6], 90)\n",
    "atoms_disordered = template.get_atoms(wrap=True)\n",
    "ase.visualize.view(atoms_disordered)"
   ]
  },
  {
   "cell_type": "markdown",
   "id": "afc2f59a-354a-4855-a1f3-e5cd897b82fa",
   "metadata": {},
   "source": [
    "This was a quick rundown of the main functionality provided by the `ExtendedAtomsTemplate` class. It has grown dynamically on an ad hoc basis, i.e., whenever needed. If your use case is not covered at this time, feel free to reach out and discuss on GitHub."
   ]
  },
  {
   "cell_type": "markdown",
   "id": "b7e063a3-2fe6-42dd-bf0c-bce9a9b13a70",
   "metadata": {},
   "source": [
    "## The `AtomSelection` class"
   ]
  },
  {
   "cell_type": "markdown",
   "id": "bbfa2e33-07a8-44e3-8b76-7b011ec219f0",
   "metadata": {},
   "source": [
    "Modifying templates by block index quickly becomes cumbersome for large structures with thousands of building blocks. The `selection` module provides convenience functions to automatically select collections of building blocks. The main interface is accessed through an `AtomSelection` object. "
   ]
  },
  {
   "cell_type": "code",
   "execution_count": 16,
   "id": "32013038-0957-4440-b3a6-e4b1c8856404",
   "metadata": {},
   "outputs": [
    {
     "name": "stdout",
     "output_type": "stream",
     "text": [
      "Selection(level=blocks, n_atoms=4104, n_blocks=252, selected=0)\n",
      "Inside AtomSelection: ['active_ids', 'active_mask', 'atoms', 'blocks', 'copy', 'get_atoms_mask', 'is_consistent', 'level', 'map_atom_to_block', 'map_block_to_atoms', 'modify', 'n_atoms', 'n_blocks', 'n_selected', 'reset', 'select', 'toggle_level']\n"
     ]
    }
   ],
   "source": [
    "template = ExtendedAtomsTemplate(atoms)\n",
    "template.merge_blocks(2)\n",
    "template = template.make_supercell(3, 3, 1)\n",
    "ase.visualize.view(template.get_atoms())\n",
    "\n",
    "# create a selection for this particular template\n",
    "selection = AtomSelection(template)\n",
    "print(selection)\n",
    "print('Inside AtomSelection:', [_ for _ in dir(selection) if not _.startswith('_')])"
   ]
  },
  {
   "cell_type": "markdown",
   "id": "eb40e073-0043-4aad-8a11-46174b202279",
   "metadata": {},
   "source": [
    "We control a selection by the `select` method that accepts `SelectionRule` instances. Below, we provide a non-exhaustive summation of possible combinations. Look at the source code for an overview of every `SelectionRule`. Implement custom rules by subclassing `SelectionRule`."
   ]
  },
  {
   "cell_type": "code",
   "execution_count": 17,
   "id": "1053d2c1-c777-4762-8420-c1da8aa4d8cf",
   "metadata": {},
   "outputs": [
    {
     "name": "stdout",
     "output_type": "stream",
     "text": [
      "0\t| Selection(level=blocks, n_atoms=4104, n_blocks=252, selected=252)\n",
      "1\t| Selection(level=blocks, n_atoms=4104, n_blocks=252, selected=216)\n",
      "2\t| Selection(level=blocks, n_atoms=4104, n_blocks=252, selected=0)\n",
      "3\t| Selection(level=blocks, n_atoms=4104, n_blocks=252, selected=50)\n",
      "4\t| Selection(level=blocks, n_atoms=4104, n_blocks=252, selected=79)\n"
     ]
    }
   ],
   "source": [
    "# select every block containing C\n",
    "selection.select(SelectByElement('C'))\n",
    "print(f'0\\t| {selection}')\n",
    "visualise_selection(selection)\n",
    "\n",
    "# deselect every block containing Zr\n",
    "selection.select(SelectByElement('Zr'), add=False)\n",
    "print(f'1\\t| {selection}')\n",
    "visualise_selection(selection)\n",
    "\n",
    "# reset to initial state\n",
    "selection.reset()\n",
    "print(f'2\\t| {selection}')\n",
    "\n",
    "# randomly select 20% of blocks\n",
    "selection.select(SelectByChance(fraction=0.2))\n",
    "print(f'3\\t| {selection}')\n",
    "visualise_selection(selection)\n",
    "\n",
    "# select every block with 12 connections\n",
    "selection.select(SelectByConnectivity(12))\n",
    "print(f'4\\t| {selection}')\n",
    "visualise_selection(selection)"
   ]
  },
  {
   "cell_type": "markdown",
   "id": "4e812dcd-3fed-4ed1-9170-c7cd18af886f",
   "metadata": {},
   "source": [
    "It's possible to combine multiple rules for additional flexibility. The `select` method will apply every rule to all blocks that are not yet actively selected (or every block that is already selected if `add=False`) and use the intersection of all rules."
   ]
  },
  {
   "cell_type": "code",
   "execution_count": 18,
   "id": "6ac2fa15-08cd-4a95-a818-e6ecb7aa6ac0",
   "metadata": {},
   "outputs": [],
   "source": [
    "# select every block containing C and not Zr\n",
    "selection.reset()\n",
    "selection.select(SelectByElement('C'), SelectByElement('Zr', invert=True))\n",
    "visualise_selection(selection)\n",
    "\n",
    "# select half of all bricks randomly\n",
    "selection.reset()\n",
    "selection.select(SelectByElement('Zr'), SelectByChance(fraction=0.5))\n",
    "visualise_selection(selection)"
   ]
  },
  {
   "cell_type": "markdown",
   "id": "4820e912-4558-4fa5-b17f-dbd46b47d710",
   "metadata": {},
   "source": [
    "Consecutive `select` calls enable more complex building block selections."
   ]
  },
  {
   "cell_type": "code",
   "execution_count": 19,
   "id": "3e129b6a-a7e9-4fd9-a7fd-e38b8941b5ae",
   "metadata": {},
   "outputs": [],
   "source": [
    "# select a random brick and then its surrounding linkers\n",
    "selection.reset()\n",
    "selection.select(SelectByElement('Zr'), SelectByChance(amount=1))\n",
    "selection.select(SelectByAdjacency(1))\n",
    "visualise_selection(selection)\n",
    "\n",
    "# select brick 0 and then its closest bricks\n",
    "selection.reset()\n",
    "selection.select(SelectByIndex(0))\n",
    "selection.select(SelectByAdjacency(2), SelectByAdjacency(1, invert=True))\n",
    "visualise_selection(selection)"
   ]
  },
  {
   "cell_type": "markdown",
   "id": "cbe35eda-1bf0-48dd-9d66-17322dc8b643",
   "metadata": {},
   "source": [
    "You can easily retrieve the indices of selected blocks to modify an `ExtendedAtomsTemplate` at scale."
   ]
  },
  {
   "cell_type": "code",
   "execution_count": 20,
   "id": "2def0dba-b2f2-4040-a642-cd29693c1a32",
   "metadata": {},
   "outputs": [
    {
     "name": "stdout",
     "output_type": "stream",
     "text": [
      "Selected indices: [ 24  48  57  87  96 114 129 150 165 204 210 237 249]\n"
     ]
    },
    {
     "ename": "AssertionError",
     "evalue": "Selection is no longer consistent with template. Reinitialise..",
     "output_type": "error",
     "traceback": [
      "\u001b[0;31m---------------------------------------------------------------------------\u001b[0m",
      "\u001b[0;31mAssertionError\u001b[0m                            Traceback (most recent call last)",
      "Cell \u001b[0;32mIn[20], line 15\u001b[0m\n\u001b[1;32m     12\u001b[0m ase\u001b[38;5;241m.\u001b[39mvisualize\u001b[38;5;241m.\u001b[39mview(atoms_disordered)\n\u001b[1;32m     14\u001b[0m \u001b[38;5;66;03m# altering a template borks the selection instance\u001b[39;00m\n\u001b[0;32m---> 15\u001b[0m \u001b[43mselection\u001b[49m\u001b[38;5;241;43m.\u001b[39;49m\u001b[43mselect\u001b[49m\u001b[43m(\u001b[49m\u001b[43m)\u001b[49m\n",
      "File \u001b[0;32m~/PycharmProjects/Research/code/sdfm/sdfm/selection.py:25\u001b[0m, in \u001b[0;36mAtomSelection.select\u001b[0;34m(self, add, *rules)\u001b[0m\n\u001b[1;32m     23\u001b[0m \u001b[38;5;28;01mdef\u001b[39;00m \u001b[38;5;21mselect\u001b[39m(\u001b[38;5;28mself\u001b[39m, \u001b[38;5;241m*\u001b[39mrules: \u001b[38;5;124m'\u001b[39m\u001b[38;5;124mSelectionRule\u001b[39m\u001b[38;5;124m'\u001b[39m, add: \u001b[38;5;28mbool\u001b[39m \u001b[38;5;241m=\u001b[39m \u001b[38;5;28;01mTrue\u001b[39;00m):\n\u001b[1;32m     24\u001b[0m \u001b[38;5;250m    \u001b[39m\u001b[38;5;124;03m\"\"\"Add to or remove from selection based on rules. When multiple rules are provided, use their intersection.\"\"\"\u001b[39;00m\n\u001b[0;32m---> 25\u001b[0m     \u001b[38;5;28;01massert\u001b[39;00m \u001b[38;5;28mself\u001b[39m\u001b[38;5;241m.\u001b[39mis_consistent, \u001b[38;5;124m'\u001b[39m\u001b[38;5;124mSelection is no longer consistent with template. Reinitialise..\u001b[39m\u001b[38;5;124m'\u001b[39m\n\u001b[1;32m     26\u001b[0m     \u001b[38;5;28;01massert\u001b[39;00m \u001b[38;5;28mall\u001b[39m(\u001b[38;5;28misinstance\u001b[39m(rule, SelectionRule) \u001b[38;5;28;01mfor\u001b[39;00m rule \u001b[38;5;129;01min\u001b[39;00m rules)\n\u001b[1;32m     28\u001b[0m     active_mask, active_ids \u001b[38;5;241m=\u001b[39m \u001b[38;5;28mself\u001b[39m\u001b[38;5;241m.\u001b[39mactive_mask, \u001b[38;5;28mself\u001b[39m\u001b[38;5;241m.\u001b[39mactive_ids\n",
      "\u001b[0;31mAssertionError\u001b[0m: Selection is no longer consistent with template. Reinitialise.."
     ]
    }
   ],
   "source": [
    "# select a random brick and then its surrounding linkers\n",
    "template_copy = template.copy()\n",
    "selection = AtomSelection(template_copy)\n",
    "selection.select(SelectByElement('Zr'), SelectByChance(amount=1))\n",
    "selection.select(SelectByAdjacency(1))\n",
    "\n",
    "# remove full selection from the template\n",
    "ids = selection.active_ids\n",
    "print('Selected indices:', ids)\n",
    "template_copy.remove_blocks(ids)\n",
    "atoms_disordered = template_copy.get_atoms(ghost_atoms=True, wrap=True)\n",
    "ase.visualize.view(atoms_disordered)\n",
    "\n",
    "# altering a template borks the selection instance\n",
    "selection.select()"
   ]
  },
  {
   "cell_type": "markdown",
   "id": "cdda5c0c-d84d-49de-afdc-a2a2da6c1e14",
   "metadata": {},
   "source": [
    "An `AtomSelection` also has limited functionality at the atomic level. At present, this is very barebones."
   ]
  },
  {
   "cell_type": "code",
   "execution_count": null,
   "id": "a53c6f62-1e1e-4bad-9866-bccfcec9a6de",
   "metadata": {},
   "outputs": [],
   "source": [
    "# select 20% of Zr atoms\n",
    "selection = AtomSelection(template_copy)\n",
    "print(selection)\n",
    "selection.toggle_level()\n",
    "selection.select(SelectByElement('Zr'), SelectByChance(fraction=0.2))\n",
    "print(selection)\n",
    "visualise_selection(selection)\n",
    "\n",
    "# swap out for Hf\n",
    "template_copy.atoms.numbers[selection.active_ids] = 72\n",
    "atoms_disordered = template_copy.get_atoms(wrap=True)\n",
    "ase.visualize.view(atoms_disordered)"
   ]
  },
  {
   "cell_type": "markdown",
   "id": "a4b2f38e-e332-44c1-9a48-957f36878638",
   "metadata": {},
   "source": [
    "## Playground"
   ]
  },
  {
   "cell_type": "markdown",
   "id": "dc7889e4-f158-4a8d-a4da-8c3f5ba2f2d1",
   "metadata": {},
   "source": [
    "You reached the end of this short tutorial. Have fun messing about."
   ]
  },
  {
   "cell_type": "code",
   "execution_count": null,
   "id": "062b6b93-4393-4e0e-a85f-64dd5a6ca639",
   "metadata": {},
   "outputs": [],
   "source": []
  }
 ],
 "metadata": {
  "kernelspec": {
   "display_name": "Python 3 (ipykernel)",
   "language": "python",
   "name": "python3"
  },
  "language_info": {
   "codemirror_mode": {
    "name": "ipython",
    "version": 3
   },
   "file_extension": ".py",
   "mimetype": "text/x-python",
   "name": "python",
   "nbconvert_exporter": "python",
   "pygments_lexer": "ipython3",
   "version": "3.10.16"
  }
 },
 "nbformat": 4,
 "nbformat_minor": 5
}
